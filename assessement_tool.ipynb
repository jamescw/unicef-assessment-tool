{
    "cells": [
        {
            "cell_type": "code",
            "execution_count": 9,
            "metadata": {},
            "outputs": [],
            "source": [
                "import pandas as pd\n",
                "from pprint import pprint"
            ]
        },
        {
            "cell_type": "code",
            "execution_count": 12,
            "metadata": {},
            "outputs": [],
            "source": [
                "index_scores = pd.read_csv(\"IndexScores.csv\", encoding = 'unicode_escape', engine ='python')"
            ]
        },
        {
            "cell_type": "code",
            "execution_count": 13,
            "metadata": {},
            "outputs": [
                {
                    "name": "stdout",
                    "output_type": "stream",
                    "text": [
                        "<class 'pandas.core.frame.DataFrame'>\n",
                        "RangeIndex: 8997 entries, 0 to 8996\n",
                        "Data columns (total 27 columns):\n",
                        " #   Column                           Non-Null Count  Dtype  \n",
                        "---  ------                           --------------  -----  \n",
                        " 0   Column1                          8997 non-null   int64  \n",
                        " 1   COUNTRY_ISO_3                    8997 non-null   object \n",
                        " 2   TIME_PERIOD                      8997 non-null   int64  \n",
                        " 3   RAW_OBS_VALUE                    8400 non-null   float64\n",
                        " 4   INDICATOR_NAME                   8997 non-null   object \n",
                        " 5   INDICATOR_INDEX                  7500 non-null   object \n",
                        " 6   INDICATOR_ISSUE                  8997 non-null   object \n",
                        " 7   INDICATOR_CATEGORY               8997 non-null   object \n",
                        " 8   INDICATOR_CODE                   8997 non-null   object \n",
                        " 9   ATTR_SOURCE                      8997 non-null   object \n",
                        " 10  ATTR_SOURCE_BODY                 8997 non-null   object \n",
                        " 11  ATTR_INDICATOR_DESCRIPTION       8997 non-null   object \n",
                        " 12  ATTR_INDICATOR_EXPLANATION       1497 non-null   object \n",
                        " 13  ATTR_UNIT_MEASURE                2068 non-null   object \n",
                        " 14  ATTR_DATA_EXTRACTION_METHDOLOGY  8393 non-null   object \n",
                        " 15  ATTR_SOURCE_TITLE                8997 non-null   object \n",
                        " 16  ATTR_API_ENDPOINT_URL            1879 non-null   object \n",
                        " 17  CRBA_RELEASE_YEAR                7684 non-null   object \n",
                        " 18  ATTR_ENCODING_LABELS             6929 non-null   object \n",
                        " 19  SCALED_OBS_VALUE                 7349 non-null   object \n",
                        " 20  OBS_STATUS                       2093 non-null   object \n",
                        " 21  CATEGORY_ISSUE_SCORE             8936 non-null   object \n",
                        " 22  ISSUE_INDEX_SCORE                8997 non-null   float64\n",
                        " 23  ISSUE_INDEX_RISK_CATEGORY        8997 non-null   object \n",
                        " 24  INDEX_SCORE                      8997 non-null   object \n",
                        " 25  INDEX_RISK_CATEGORY              8997 non-null   object \n",
                        " 26  OVERALL_SCORE                    8997 non-null   object \n",
                        "dtypes: float64(2), int64(2), object(23)\n",
                        "memory usage: 1.9+ MB\n"
                    ]
                }
            ],
            "source": [
                "index_scores.info()"
            ]
        },
        {
            "cell_type": "code",
            "execution_count": 14,
            "metadata": {},
            "outputs": [
                {
                    "name": "stdout",
                    "output_type": "stream",
                    "text": [
                        "['Online Abuse and exploitation',\n",
                        " 'Child labour',\n",
                        " 'Marketplace',\n",
                        " 'Community and Environment',\n",
                        " 'Resource use and damage to the environment',\n",
                        " 'Natural disasters',\n",
                        " 'Fulfillment of children\\x89Ûªs rights',\n",
                        " 'Decent working conditions',\n",
                        " 'Maternity and paternity protection',\n",
                        " 'Marketing and Advertising',\n",
                        " 'Product Safety']\n"
                    ]
                }
            ],
            "source": [
                "pprint(list(index_scores.INDICATOR_ISSUE.unique()))"
            ]
        },
        {
            "cell_type": "code",
            "execution_count": 17,
            "metadata": {},
            "outputs": [
                {
                    "data": {
                        "text/html": [
                            "<div>\n",
                            "<style scoped>\n",
                            "    .dataframe tbody tr th:only-of-type {\n",
                            "        vertical-align: middle;\n",
                            "    }\n",
                            "\n",
                            "    .dataframe tbody tr th {\n",
                            "        vertical-align: top;\n",
                            "    }\n",
                            "\n",
                            "    .dataframe thead th {\n",
                            "        text-align: right;\n",
                            "    }\n",
                            "</style>\n",
                            "<table border=\"1\" class=\"dataframe\">\n",
                            "  <thead>\n",
                            "    <tr style=\"text-align: right;\">\n",
                            "      <th></th>\n",
                            "      <th></th>\n",
                            "      <th>ISSUE_INDEX_SCORE</th>\n",
                            "    </tr>\n",
                            "    <tr>\n",
                            "      <th>COUNTRY_ISO_3</th>\n",
                            "      <th>INDICATOR_ISSUE</th>\n",
                            "      <th></th>\n",
                            "    </tr>\n",
                            "  </thead>\n",
                            "  <tbody>\n",
                            "    <tr>\n",
                            "      <th rowspan=\"5\" valign=\"top\">AFG</th>\n",
                            "      <th>Child labour</th>\n",
                            "      <td>5.083810</td>\n",
                            "    </tr>\n",
                            "    <tr>\n",
                            "      <th>Community and Environment</th>\n",
                            "      <td>2.705000</td>\n",
                            "    </tr>\n",
                            "    <tr>\n",
                            "      <th>Decent working conditions</th>\n",
                            "      <td>2.327403</td>\n",
                            "    </tr>\n",
                            "    <tr>\n",
                            "      <th>Marketing and Advertising</th>\n",
                            "      <td>7.903121</td>\n",
                            "    </tr>\n",
                            "    <tr>\n",
                            "      <th>Marketplace</th>\n",
                            "      <td>8.308000</td>\n",
                            "    </tr>\n",
                            "    <tr>\n",
                            "      <th>...</th>\n",
                            "      <th>...</th>\n",
                            "      <td>...</td>\n",
                            "    </tr>\n",
                            "    <tr>\n",
                            "      <th rowspan=\"5\" valign=\"top\">ZWE</th>\n",
                            "      <th>Maternity and paternity protection</th>\n",
                            "      <td>3.022127</td>\n",
                            "    </tr>\n",
                            "    <tr>\n",
                            "      <th>Natural disasters</th>\n",
                            "      <td>4.687000</td>\n",
                            "    </tr>\n",
                            "    <tr>\n",
                            "      <th>Online Abuse and exploitation</th>\n",
                            "      <td>5.346111</td>\n",
                            "    </tr>\n",
                            "    <tr>\n",
                            "      <th>Product Safety</th>\n",
                            "      <td>5.359167</td>\n",
                            "    </tr>\n",
                            "    <tr>\n",
                            "      <th>Resource use and damage to the environment</th>\n",
                            "      <td>5.315698</td>\n",
                            "    </tr>\n",
                            "  </tbody>\n",
                            "</table>\n",
                            "<p>2083 rows × 1 columns</p>\n",
                            "</div>"
                        ],
                        "text/plain": [
                            "                                                          ISSUE_INDEX_SCORE\n",
                            "COUNTRY_ISO_3 INDICATOR_ISSUE                                              \n",
                            "AFG           Child labour                                         5.083810\n",
                            "              Community and Environment                            2.705000\n",
                            "              Decent working conditions                            2.327403\n",
                            "              Marketing and Advertising                            7.903121\n",
                            "              Marketplace                                          8.308000\n",
                            "...                                                                     ...\n",
                            "ZWE           Maternity and paternity protection                   3.022127\n",
                            "              Natural disasters                                    4.687000\n",
                            "              Online Abuse and exploitation                        5.346111\n",
                            "              Product Safety                                       5.359167\n",
                            "              Resource use and damage to the environment           5.315698\n",
                            "\n",
                            "[2083 rows x 1 columns]"
                        ]
                    },
                    "execution_count": 17,
                    "metadata": {},
                    "output_type": "execute_result"
                }
            ],
            "source": [
                "index_scores.groupby(['COUNTRY_ISO_3', 'INDICATOR_ISSUE']).agg({\"ISSUE_INDEX_SCORE\": \"last\"})"
            ]
        }
    ],
    "metadata": {
        "interpreter": {
            "hash": "4cd7ab41f5fca4b9b44701077e38c5ffd31fe66a6cab21e0214b68d958d0e462"
        },
        "kernelspec": {
            "display_name": "Python 3.9.7 64-bit",
            "name": "python3"
        },
        "language_info": {
            "codemirror_mode": {
                "name": "ipython",
                "version": 3
            },
            "file_extension": ".py",
            "mimetype": "text/x-python",
            "name": "python",
            "nbconvert_exporter": "python",
            "pygments_lexer": "ipython3",
            "version": "3.9.7"
        },
        "orig_nbformat": 4
    },
    "nbformat": 4,
    "nbformat_minor": 2
}
